{
 "cells": [
  {
   "cell_type": "code",
   "execution_count": 14,
   "metadata": {},
   "outputs": [],
   "source": [
    "import pandas as pd\n",
    "\n"
   ]
  },
  {
   "cell_type": "code",
   "execution_count": 15,
   "metadata": {},
   "outputs": [],
   "source": [
    "train_df = pd.DataFrame({\"Employ No.\":[1120,2323,1233,5323,2455,1345],\"Experience\":[12,10,5,10,6,22],\n",
    "\"Designation\":[\"Clerk\",\"Manager\",\"Senior Manager\",\"Manager\",\"Manager\",\"Clerk\"],\n",
    "\"Attitude\":[\"Excellent\",\"Exceptional\",\"Fully competent\",\"Marginal\",\"Exceptional\",\"Unsatisfactory\"],\n",
    "\"Work Index\":[0.7,0.9,0.6,0.5,0.9,0.4], \"Salary(IN thousands)\":[12,30,40,28,25,10]})\n",
    "test_df = pd.DataFrame({\"Employ No.\":[9023,9084,9032],\"Experience\":[5,12,15],\n",
    "\"Designation\":[\"Manager\",\"Clerk\",\"Senior Manager\"],\n",
    "\"Attitude\":[\"Excellent\",\"Exceptional\",\"Fully competent\"],\n",
    "\"Work Index\":[0.7,0.9,0.6,]})"
   ]
  },
  {
   "cell_type": "code",
   "execution_count": 16,
   "metadata": {},
   "outputs": [],
   "source": [
    "data = [train_df, test_df]"
   ]
  },
  {
   "cell_type": "markdown",
   "metadata": {},
   "source": [
    "# Dropping unnecessary columns\n"
   ]
  },
  {
   "cell_type": "code",
   "execution_count": 17,
   "metadata": {},
   "outputs": [],
   "source": [
    "for df in data:\n",
    "    df.drop('Employ No.',axis=\"columns\",inplace=True)"
   ]
  },
  {
   "cell_type": "code",
   "execution_count": 18,
   "metadata": {},
   "outputs": [],
   "source": [
    "# Converting non-numerical features to numerical\n",
    "\n",
    "Designation_mapping = {\"Clerk\":0,'Manager':1,\"Senior Manager\":2}\n",
    "Attitude_mapping = {\"Unsatisfactory\":0, \"Marginal\":1, \"Fully competent\":2, \"Excellent\":3, \"Exceptional\":4}\n",
    "\n",
    "for df in data:\n",
    "    df['Designation']=df['Designation'].map(Designation_mapping)\n",
    "    df['Attitude']=df['Attitude'].map(Attitude_mapping)"
   ]
  },
  {
   "cell_type": "code",
   "execution_count": 19,
   "metadata": {},
   "outputs": [],
   "source": [
    "X = train_df.drop(\"Salary(IN thousands)\",axis='columns')\n",
    "y=train_df[\"Salary(IN thousands)\"]\n",
    "\n"
   ]
  },
  {
   "cell_type": "code",
   "execution_count": 20,
   "metadata": {},
   "outputs": [
    {
     "data": {
      "text/plain": [
       "LinearRegression()"
      ]
     },
     "execution_count": 20,
     "metadata": {},
     "output_type": "execute_result"
    }
   ],
   "source": [
    "from sklearn.linear_model import LinearRegression\n",
    "lr_model = LinearRegression()\n",
    "lr_model.fit(X,y)\n",
    "LinearRegression()\n"
   ]
  },
  {
   "cell_type": "code",
   "execution_count": 21,
   "metadata": {},
   "outputs": [
    {
     "ename": "NameError",
     "evalue": "name 'array' is not defined",
     "output_type": "error",
     "traceback": [
      "\u001b[0;31m---------------------------------------------------------------------------\u001b[0m",
      "\u001b[0;31mNameError\u001b[0m                                 Traceback (most recent call last)",
      "\u001b[0;32m<ipython-input-21-96c27285b2c9>\u001b[0m in \u001b[0;36m<module>\u001b[0;34m\u001b[0m\n\u001b[1;32m      3\u001b[0m \u001b[0;31m#the prediction for\u001b[0m\u001b[0;34m\u001b[0m\u001b[0;34m\u001b[0m\u001b[0;34m\u001b[0m\u001b[0m\n\u001b[1;32m      4\u001b[0m \u001b[0;31m#array([ 26.39862543, 12.54467354, 43.07216495])\u001b[0m\u001b[0;34m\u001b[0m\u001b[0;34m\u001b[0m\u001b[0;34m\u001b[0m\u001b[0m\n\u001b[0;32m----> 5\u001b[0;31m \u001b[0marray\u001b[0m\u001b[0;34m(\u001b[0m\u001b[0;34m[\u001b[0m \u001b[0;36m26.39862543\u001b[0m\u001b[0;34m,\u001b[0m \u001b[0;36m12.54467354\u001b[0m\u001b[0;34m,\u001b[0m \u001b[0;36m43.07216495\u001b[0m\u001b[0;34m]\u001b[0m\u001b[0;34m)\u001b[0m\u001b[0;34m\u001b[0m\u001b[0;34m\u001b[0m\u001b[0m\n\u001b[0m",
      "\u001b[0;31mNameError\u001b[0m: name 'array' is not defined"
     ]
    }
   ],
   "source": [
    "#Predicting on test data\n",
    "lr_model.predict(test_df)\n",
    "#the prediction for\n",
    "#array([ 26.39862543, 12.54467354, 43.07216495])\n"
   ]
  }
 ],
 "metadata": {
  "kernelspec": {
   "display_name": "Python 3",
   "language": "python",
   "name": "python3"
  },
  "language_info": {
   "codemirror_mode": {
    "name": "ipython",
    "version": 3
   },
   "file_extension": ".py",
   "mimetype": "text/x-python",
   "name": "python",
   "nbconvert_exporter": "python",
   "pygments_lexer": "ipython3",
   "version": "3.6.9"
  }
 },
 "nbformat": 4,
 "nbformat_minor": 4
}
